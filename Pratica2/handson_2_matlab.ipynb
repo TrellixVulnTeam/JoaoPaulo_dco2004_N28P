{
 "cells": [
  {
   "cell_type": "code",
   "execution_count": null,
   "metadata": {},
   "outputs": [],
   "source": [
    "close all;clc;clear all;                                          % Limpa variáveis e fecha todos os gráficos\n",
    "soundFile = ['C:\\Users\\ufrn\\Documents\\MATLAB\\hands on 2\\musica_01.wav'];             % Especifica do local e nome do arquivo de áudio\n",
    "[vtSom, dFa] = audioread(soundFile);                              % Abre arquivo de áudio de um arquivo\n",
    "% vtSom: amplitude das amostras de som\n",
    "% dFa: frequência de amostrasgem do som (amostragem no tempo)\n",
    "vtSom = [vtSom vtSom];\n",
    "sInfo = audioinfo(soundFile);\n",
    "dta = 1/dFa;                                                      % Tempo entre amostras\n",
    "dTFinal = (length(vtSom)-1)*dta;                                  % Tempo da última amostra do sinal de áudio\n",
    "vtTSom = 0:dta:dTFinal;                                           % Eixo temporal do arquivo de áudio\n",
    "plot(vtTSom,vtSom);                                               % Plota gráfico do áudio\n",
    "set(gcf,'color',[1 1 1]);                                         % Configura área da figura\n",
    "set(gca,'FontWeight','bold','FontSize',12);                       % Configura área do gráfico\n",
    "title(['Sinal de Áudio']);                                        % Configura título do gráfico\n",
    "ylabel('Amplitude');                                              % Configura eixo X do gráfico\n",
    "xlabel('Tempo (s)');                                              % Configura eixo Y do gráfico\n",
    "p = audioplayer(vtSom, 1*dFa);                                    % Reproduzir arquivo de áudio\n",
    "play(p);                                                          % Reproduzir arquivo de áudio\n",
    "% Mostra informações gerais sobre o arquivo\n",
    "disp(['Amostragem:']);\n",
    "disp([' Taxa de amostragem = ' num2str(dFa) ' Hz']);\n",
    "disp([' Tempo entre amostras = ' num2str(dta) ' Segundos']);\n",
    "disp(' ');\n",
    "disp(['Quantização e Codificação:']);\n",
    "disp([' Número de bits por amostra = ' num2str(sInfo.BitsPerSample) ' bits']);\n",
    "disp(' ');\n",
    "disp(['Informações gerais do arquivo de áudio:']);\n",
    "disp([' Nome do Arquivo = ' sInfo.Filename]);\n",
    "disp([' Número de canais = ' num2str(sInfo.NumChannels)]);\n",
    "disp([' Número de amostras = ' num2str(sInfo.TotalSamples) ' amostras']);\n",
    "disp([' Duração = ' num2str(sInfo.Duration) ' segundos']);"
   ]
  },
  {
   "cell_type": "code",
   "execution_count": null,
   "metadata": {},
   "outputs": [],
   "source": [
    "a variavel vtSom recebe um vetor contendo a informação da música, ao utilizar vtSom = 4*vtSom estamos multiplicando a amplitude por 4, aumentando assim o volume."
   ]
  },
  {
   "cell_type": "code",
   "execution_count": null,
   "metadata": {},
   "outputs": [],
   "source": [
    "ao utilizar as opções  vtSom = [vtSom vtSom] e vtSom = [vtSom flip(vtSom)] o audio não é tocado. \n",
    "Isto acontece pois muda o número de colunas presentes na variável vtSom.\n",
    "a função audioplayer() necessita de uma matriz com 2 colunas e n linhas para funcionar.\n",
    "*a função flip() retorna uma matriz \"inversa\" a matriz utilizada como parâmetro. Ao utilizar a função audioplayer() na \n",
    "variável vtSom = flip(vtSom) é possível escutar a música ao contrário."
   ]
  },
  {
   "cell_type": "code",
   "execution_count": null,
   "metadata": {},
   "outputs": [],
   "source": [
    "ao utilizar a opção vtSom = [vtSom; vtSom] o audio é tocado, e a duração da música é dobrada \n",
    "(possui o dobro do número de linhas) , pois ela se repete.\n",
    "Isto acontece pois ao colocar \";\" dentro dos colchetes cria um vetor com duas colunas, parâmetro necessário para a \n",
    "função audioplayer()."
   ]
  },
  {
   "cell_type": "code",
   "execution_count": null,
   "metadata": {},
   "outputs": [],
   "source": []
  }
 ],
 "metadata": {
  "kernelspec": {
   "display_name": "Python 3",
   "language": "python",
   "name": "python3"
  },
  "language_info": {
   "codemirror_mode": {
    "name": "ipython",
    "version": 3
   },
   "file_extension": ".py",
   "mimetype": "text/x-python",
   "name": "python",
   "nbconvert_exporter": "python",
   "pygments_lexer": "ipython3",
   "version": "3.6.8"
  }
 },
 "nbformat": 4,
 "nbformat_minor": 2
}
