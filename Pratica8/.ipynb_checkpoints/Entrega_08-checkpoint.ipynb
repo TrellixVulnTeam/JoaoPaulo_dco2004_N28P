{
 "cells": [
  {
   "cell_type": "markdown",
   "metadata": {},
   "source": [
    "Gere amostras de ruído AWGN e faça e disserte sobre os seguintes gráficos:\n",
    "\n",
    "    Autocovariância normalizada;\n",
    "    Espectro.\n",
    "\n",
    "Também reproduza no sistema de som do computador as amostras geradas. Você reconhece o som reproduzido?"
   ]
  },
  {
   "cell_type": "code",
   "execution_count": null,
   "metadata": {},
   "outputs": [],
   "source": [
    "clc;clear all;close all; \n",
    "                                             % Parâmetros\n",
    "SNR_dB = 5;                                  % Determina o valor da SNR em dB\n",
    "T=0.0001;\n",
    "t = 0:T:5;                                   % Eixo do tempo\n",
    "x=2*cos(2*pi*10*t)+i*0.2*cos(2*pi*10*t);     % Sinal qualquer x(t)\n",
    "N = length(x);                               % Calcula o comprimento de x\n",
    "Ps = sum(abs(x).^2)/N;                       % Calcula a potência do sinal\n",
    "SNR = 10^(SNR_dB/10);                        % Calcula a SNR linear\n",
    "Pn = Ps/SNR;                                 % Calcula a potência do ruído\n",
    "noiseSigma = sqrt(Pn/100);                    % Desvio padrão do ruído normalizado \n",
    "n = noiseSigma*[randn(1,N)+j* randn(1,N)];   % Vetor do ruído \n",
    "Fs = 1/T\n",
    "lfft=length(n);                              % Comprimento da FFT\n",
    "S=fftshift(fft(n,lfft))/lfft;\n",
    "freq = -Fs/2:Fs/lfft:Fs/2-Fs/lfft;\n",
    "plot(freq,S)"
   ]
  },
  {
   "cell_type": "markdown",
   "metadata": {},
   "source": [
    "Estimar a SNR (dB) de um sinal x=Amcos(2πfmt), salvo no arquivo Pratica_08_sinal_real.mat"
   ]
  },
  {
   "cell_type": "code",
   "execution_count": null,
   "metadata": {},
   "outputs": [],
   "source": [
    "clc;clear;\n",
    "%%sinal real\n",
    "\n",
    "Sinal=load('Pratica_08_sinal_real.mat')\n",
    "y=Sinal.y;\n",
    "Am=Sinal.Am;\n",
    "fs=Sinal.fs;\n",
    "fm=Sinal.fm;\n",
    "\n",
    "t = 0:1/fs:0.5;\n",
    "\n",
    "x = Am*cos(2*pi*fm*t);\n",
    "noise = y-x;\n",
    "Pxr=var(x);\n",
    "Pnr=var(noise);\n",
    "\n",
    "SNRr = 20*log10(Pxr/Pnr);\n"
   ]
  },
  {
   "cell_type": "markdown",
   "metadata": {},
   "source": [
    "Estimar a SNR (dB) de um sinal x=Arcos(2πfmt)+j⋅Aicos(2πfmt), salvo no arquivo Pratica_08_sinal_complexo.mat"
   ]
  },
  {
   "cell_type": "code",
   "execution_count": null,
   "metadata": {},
   "outputs": [],
   "source": [
    "%% sinal complexo\n",
    "clear; clc;\n",
    "Sinal2=load('Pratica_08_sinal_complexo.mat');\n",
    "y=Sinal2.y;\n",
    "Ar=Sinal2.Ar;\n",
    "Ai=Sinal2.Ai;\n",
    "fs=Sinal2.fs;\n",
    "fm=Sinal2.fm;\n",
    "\n",
    "t = 0:1/fs:0.5;\n",
    "\n",
    "x = Ar*cos(2*pi*fm*t)+ j*Ai*cos(2*pi*fm*t);\n",
    "noise = y-x;\n",
    "\n",
    "Pxi=var(x);\n",
    "Pni=var(noise);\n",
    "\n",
    "SNRi = 20*log10(Pxi/Pni);"
   ]
  },
  {
   "cell_type": "code",
   "execution_count": null,
   "metadata": {},
   "outputs": [],
   "source": [
    "Eb/N0 = 0, 5 e 20 dB; modulação BPSK;"
   ]
  },
  {
   "cell_type": "code",
   "execution_count": null,
   "metadata": {},
   "outputs": [],
   "source": [
    "%% BPSK\n",
    "clc;\n",
    "clear;\n",
    "EbN0_dB = [0.5 10]                                          % Eb/N0 de entrada\n",
    "Ns = 10^5;                                             % Número de símbolos simulados\n",
    "M = 2;                                                 % Número de símbolo da modulação\n",
    "bits2 = randi([0 M-1],Ns,1);\n",
    "txSig = pskmod(bits2,M);\n",
    "\n",
    "\n",
    "figure\n",
    "rxSig = awgn(txSig,0.5);\n",
    "subplot(2,1,1);\n",
    "plot(rxSig(find(txSig<0)),'ro')\n",
    "hold on\n",
    "plot(rxSig(find(txSig>0)),'bo')\n",
    "rxSig = awgn(txSig,10);\n",
    "subplot(2,1,2);\n",
    "plot(rxSig(find(txSig<0)),'ro')\n",
    "hold on\n",
    "plot(rxSig(find(txSig>0)),'bo')\n"
   ]
  },
  {
   "cell_type": "code",
   "execution_count": null,
   "metadata": {},
   "outputs": [],
   "source": [
    "Eb/N0 = 0, 5 e 20 dB; modulação 8-PSK."
   ]
  },
  {
   "cell_type": "code",
   "execution_count": null,
   "metadata": {},
   "outputs": [],
   "source": [
    "%% 8-PSK\n",
    "clc;\n",
    "clear;\n",
    "EbN0_dB = [0.5 20]                                          % Eb/N0 de entrada\n",
    "Ns = 10^5;                                             % Número de símbolos simulados\n",
    "M = 8;                                                 % Número de símbolo da modulação\n",
    "bits2 = randi([0 M-1],Ns,1);\n",
    "txSig = pskmod(bits2,M);\n",
    "\n",
    "\n",
    "figure\n",
    "rxSig = awgn(txSig,EbN0_dB(1));\n",
    "subplot(2,1,1);\n",
    "plot(rxSig,'ro')\n",
    "\n",
    "rxSig = awgn(txSig,EbN0_dB(2));\n",
    "subplot(2,1,2);\n",
    "plot(rxSig,'ro')\n"
   ]
  }
 ],
 "metadata": {
  "kernelspec": {
   "display_name": "Matlab",
   "language": "matlab",
   "name": "matlab"
  },
  "language_info": {
   "codemirror_mode": "octave",
   "file_extension": ".m",
   "help_links": [
    {
     "text": "MetaKernel Magics",
     "url": "https://metakernel.readthedocs.io/en/latest/source/README.html"
    }
   ],
   "mimetype": "text/x-octave",
   "name": "matlab",
   "version": "0.16.7"
  }
 },
 "nbformat": 4,
 "nbformat_minor": 2
}
