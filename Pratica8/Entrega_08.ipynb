{
 "cells": [
  {
   "cell_type": "markdown",
   "metadata": {},
   "source": [
    "Gere amostras de ruído AWGN e faça e disserte sobre os seguintes gráficos:\n",
    "\n",
    "    Autocovariância normalizada;\n",
    "    Espectro.\n",
    "\n",
    "Também reproduza no sistema de som do computador as amostras geradas. Você reconhece o som reproduzido?"
   ]
  },
  {
   "cell_type": "code",
   "execution_count": 5,
   "metadata": {},
   "outputs": [
    {
     "name": "stdout",
     "output_type": "stream",
     "text": [
      "Warning: Imaginary parts of complex X and/or Y arguments ignored\n"
     ]
    },
    {
     "data": {
      "image/png": "iVBORw0KGgoAAAANSUhEUgAAAjAAAAGkCAIAAACgjIjwAAAACXBIWXMAAA7EAAAOxAGVKw4bAAAA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\nhPD/5Uyjy3xAtsgAAAAASUVORK5CYII=\n",
      "text/plain": [
       "<IPython.core.display.Image object>"
      ]
     },
     "metadata": {},
     "output_type": "display_data"
    }
   ],
   "source": [
    "clc;clear all;close all; \n",
    "                                             % Parâmetros\n",
    "SNR_dB = 5;                                  % Determina o valor da SNR em dB\n",
    "T=0.0001;\n",
    "t = 0:T:5;                                   % Eixo do tempo\n",
    "x=2*cos(2*pi*10*t)+i*0.2*cos(2*pi*10*t);     % Sinal qualquer x(t)\n",
    "N = length(x);                               % Calcula o comprimento de x\n",
    "Ps = sum(abs(x).^2)/N;                       % Calcula a potência do sinal\n",
    "SNR = 10^(SNR_dB/10);                        % Calcula a SNR linear\n",
    "Pn = Ps/SNR;                                 % Calcula a potência do ruído\n",
    "noiseSigma = sqrt(Pn/100);                    % Desvio padrão do ruído normalizado \n",
    "n = noiseSigma*[randn(1,N)+j* randn(1,N)];   % Vetor do ruído \n",
    "Fs = 1/T;\n",
    "lfft=length(n);                              % Comprimento da FFT\n",
    "S=fftshift(fft(n,lfft))/lfft;\n",
    "freq = -Fs/2:Fs/lfft:Fs/2-Fs/lfft;\n",
    "plot(freq,S)\n",
    "axis([-5000 5000 -0.3 0.3])"
   ]
  },
  {
   "cell_type": "markdown",
   "metadata": {},
   "source": [
    "Estimar a SNR (dB) de um sinal x=Amcos(2πfmt), salvo no arquivo Pratica_08_sinal_real.mat"
   ]
  },
  {
   "cell_type": "code",
   "execution_count": 11,
   "metadata": {},
   "outputs": [
    {
     "name": "stdout",
     "output_type": "stream",
     "text": [
      "\n",
      "SNRr =\n",
      "\n",
      "   30.0870\n",
      "\n"
     ]
    }
   ],
   "source": [
    "clc;clear;\n",
    "%%sinal real\n",
    "\n",
    "Sinal=load('Pratica_08_sinal_real.mat');\n",
    "y=Sinal.y;\n",
    "Am=Sinal.Am;\n",
    "fs=Sinal.fs;\n",
    "fm=Sinal.fm;\n",
    "\n",
    "t = 0:1/fs:0.5;\n",
    "\n",
    "x = Am*cos(2*pi*fm*t);\n",
    "noise = y-x;\n",
    "Pxr=var(x);\n",
    "Pnr=var(noise);\n",
    "\n",
    "SNRr = 20*log10(Pxr/Pnr)\n"
   ]
  },
  {
   "cell_type": "markdown",
   "metadata": {},
   "source": [
    "Estimar a SNR (dB) de um sinal x=Arcos(2πfmt)+j⋅Aicos(2πfmt), salvo no arquivo Pratica_08_sinal_complexo.mat"
   ]
  },
  {
   "cell_type": "code",
   "execution_count": 9,
   "metadata": {},
   "outputs": [
    {
     "name": "stdout",
     "output_type": "stream",
     "text": [
      "\n",
      "SNRi =\n",
      "\n",
      "   20.0769\n",
      "\n"
     ]
    }
   ],
   "source": [
    "%% sinal complexo\n",
    "clear; clc;\n",
    "Sinal2=load('Pratica_08_sinal_complexo.mat');\n",
    "y=Sinal2.y;\n",
    "Ar=Sinal2.Ar;\n",
    "Ai=Sinal2.Ai;\n",
    "fs=Sinal2.fs;\n",
    "fm=Sinal2.fm;\n",
    "\n",
    "t = 0:1/fs:0.5;\n",
    "\n",
    "x = Ar*cos(2*pi*fm*t)+ j*Ai*cos(2*pi*fm*t);\n",
    "noise = y-x;\n",
    "\n",
    "Pxi=var(x);\n",
    "Pni=var(noise);\n",
    "\n",
    "SNRi = 20*log10(Pxi/Pni)"
   ]
  },
  {
   "cell_type": "code",
   "execution_count": null,
   "metadata": {
    "collapsed": true
   },
   "outputs": [],
   "source": [
    "Eb/N0 = 0, 5 e 20 dB; modulação BPSK;"
   ]
  },
  {
   "cell_type": "code",
   "execution_count": 7,
   "metadata": {},
   "outputs": [
    {
     "name": "stdout",
     "output_type": "stream",
     "text": [
      "\n",
      "EbN0_dB =\n",
      "\n",
      "    0.5000   10.0000\n",
      "\n"
     ]
    },
    {
     "data": {
      "image/png": "iVBORw0KGgoAAAANSUhEUgAAAjAAAAGkCAIAAACgjIjwAAAACXBIWXMAAA7EAAAOxAGVKw4bAAAA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\n",
      "text/plain": [
       "<IPython.core.display.Image object>"
      ]
     },
     "metadata": {},
     "output_type": "display_data"
    }
   ],
   "source": [
    "%% BPSK\n",
    "clc;\n",
    "clear;\n",
    "EbN0_dB = [0.5 10];                                          % Eb/N0 de entrada\n",
    "Ns = 10^5;                                             % Número de símbolos simulados\n",
    "M = 2;                                                 % Número de símbolo da modulação\n",
    "bits2 = randi([0 M-1],Ns,1);\n",
    "txSig = pskmod(bits2,M);\n",
    "\n",
    "\n",
    "figure\n",
    "rxSig = awgn(txSig,0.5);\n",
    "subplot(2,1,1);\n",
    "plot(rxSig(find(txSig<0)),'ro')\n",
    "hold on\n",
    "plot(rxSig(find(txSig>0)),'bo')\n",
    "rxSig = awgn(txSig,10);\n",
    "subplot(2,1,2);\n",
    "plot(rxSig(find(txSig<0)),'ro')\n",
    "hold on\n",
    "plot(rxSig(find(txSig>0)),'bo')\n"
   ]
  },
  {
   "cell_type": "code",
   "execution_count": null,
   "metadata": {
    "collapsed": true
   },
   "outputs": [],
   "source": [
    "Eb/N0 = 0, 5 e 20 dB; modulação 8-PSK."
   ]
  },
  {
   "cell_type": "code",
   "execution_count": 6,
   "metadata": {},
   "outputs": [
    {
     "name": "stdout",
     "output_type": "stream",
     "text": [
      "\n",
      "EbN0_dB =\n",
      "\n",
      "    0.5000   20.0000\n",
      "\n"
     ]
    },
    {
     "data": {
      "image/png": "iVBORw0KGgoAAAANSUhEUgAAAjAAAAGkCAIAAACgjIjwAAAACXBIWXMAAA7EAAAOxAGVKw4bAAAA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\n6g+SEMmZBIgAAAAASUVORK5CYII=\n",
      "text/plain": [
       "<IPython.core.display.Image object>"
      ]
     },
     "metadata": {},
     "output_type": "display_data"
    }
   ],
   "source": [
    "%% 8-PSK\n",
    "clc;\n",
    "clear;\n",
    "EbN0_dB = [0.5 20];                                          % Eb/N0 de entrada\n",
    "Ns = 10^5;                                             % Número de símbolos simulados\n",
    "M = 8;                                                 % Número de símbolo da modulação\n",
    "bits2 = randi([0 M-1],Ns,1);\n",
    "txSig = pskmod(bits2,M);\n",
    "\n",
    "\n",
    "figure\n",
    "rxSig = awgn(txSig,EbN0_dB(1));\n",
    "subplot(2,1,1);\n",
    "plot(rxSig,'ro')\n",
    "\n",
    "rxSig = awgn(txSig,EbN0_dB(2));\n",
    "subplot(2,1,2);\n",
    "plot(rxSig,'ro')\n"
   ]
  },
  {
   "cell_type": "code",
   "execution_count": null,
<<<<<<< HEAD
   "metadata": {
    "collapsed": true
   },
   "outputs": [],
   "source": []
=======
   "metadata": {},
   "outputs": [],
   "source": [
    "clc; clear;                                \n",
    "vtnSamples = [1e2 1e3  1e4 1e5];                % Número de amostras\n",
    "Samples = ceil(6 * rand(1,max(vtnSamples)));\n",
    "chLegend =[];\n",
    "for ik = 1:length(vtnSamples)\n",
    "    nSamples = vtnSamples(ik);\n",
    "    subplot(length(vtnSamples),1,ik)\n",
    "    % PDF estimada\n",
    "    binWidth = 1;\n",
    "    vtCurrentS = Samples(1:nSamples);\n",
    "    vtBins = min(vtCurrentS):binWidth:max(vtCurrentS);\n",
    "    histo=zeros(6,1);\n",
    "    for v = vtCurrentS\n",
    "        for k =vtBins\n",
    "            if (k == v)\n",
    "                histo(k)=histo(k)+1;\n",
    "            end\n",
    "        end\n",
    "    end\n",
    "    \n",
    "\n",
    "\n",
    "    % Pode ser feito também com\n",
    "    % histogram(vtSamples(1:nSamples),'Normalization','pdf');\n",
    "    %\n",
    "    % PDF real\n",
    "    %vtPDF=normpdf(x,mu,sigma);\n",
    "    y=zeros(length(vtBins),1);\n",
    "    y=y+ 1/6;\n",
    "    bar(vtBins,y);\n",
    "    legend(['PDF Estimada = ' num2str(nSamples) ' amostras'],'PDF Real');\n",
    "    hold all;\n",
    "    bar(vtBins,histo/(nSamples),0.6,'red');\n",
    "end\n"
   ]
>>>>>>> 4ff5ff4e04990c6f46ddd96e792034adbd866c29
  }
 ],
 "metadata": {
  "kernelspec": {
   "display_name": "Matlab",
   "language": "matlab",
   "name": "matlab"
  },
  "language_info": {
   "codemirror_mode": "octave",
   "file_extension": ".m",
   "help_links": [
    {
     "text": "MetaKernel Magics",
     "url": "https://github.com/calysto/metakernel/blob/master/metakernel/magics/README.md"
    }
   ],
   "mimetype": "text/x-matlab",
   "name": "matlab",
   "version": "0.14.3"
  }
 },
 "nbformat": 4,
 "nbformat_minor": 2
}
