{
 "cells": [
  {
   "cell_type": "markdown",
   "metadata": {},
   "source": [
    "periodogram é uma função já estabelecida pelo matlab, tal função pode aceitar diversos parâmetros, dentre eles os mais comuns são o vetor a se analizar(obrigatório) e a janela a qual este vetor será submetido.\n",
    "\n",
    "A função periodogram tem como objetivo estimar a Densidade Espectral de Potência (PSD) estimado pelo método periodogram.\n",
    "\n",
    "Ao utilizar um sinal com valores reais a função periodogram irá retornar apenas um lado do PSD. utilizando sinais com valores complexos a função irá retornar os dois lados do PSD.\n"
   ]
  },
  {
   "cell_type": "code",
   "execution_count": null,
   "metadata": {},
   "outputs": [],
   "source": [
    "help periodogram"
   ]
  },
  {
   "cell_type": "code",
   "execution_count": null,
   "metadata": {},
   "outputs": [],
   "source": []
  },
  {
   "cell_type": "code",
   "execution_count": null,
   "metadata": {},
   "outputs": [],
   "source": []
  },
  {
   "cell_type": "code",
   "execution_count": null,
   "metadata": {},
   "outputs": [],
   "source": [
    "clc;clear;\n",
    "\n",
    "fs = 1000; \n",
    "fc = 200;  \n",
    "t = (0:1/fs:0.2);\n",
    "L = length(t)\n",
    "\n",
    "\n",
    "x = sin(2*pi*30*t);\n",
    "\n",
    "\n",
    "fDev = 50;\n",
    "\n",
    "y = fmmod(x,fc,fs,fDev);\n",
    "\n",
    "figure\n",
    "plot(y)\n",
    "\n",
    "f = (fs)*(0:(L/2))/L;\n",
    "\n",
    "Y=fft(y);\n",
    "Y=abs(2*Y/L);\n",
    "P=Y(1:(L/2)+1);\n",
    "figure\n",
    "plot(f,P)\n",
    "\n",
    "\n",
    "Power= sum(Y.*conj(Y)); \n",
    "disp([' a potencia do sinal modulado e de : ' num2str(Power)])"
   ]
  }
 ],
 "metadata": {
  "kernelspec": {
   "display_name": "Python 3",
   "language": "python",
   "name": "python3"
  },
  "language_info": {
   "codemirror_mode": {
    "name": "ipython",
    "version": 3
   },
   "file_extension": ".py",
   "mimetype": "text/x-python",
   "name": "python",
   "nbconvert_exporter": "python",
   "pygments_lexer": "ipython3",
   "version": "3.6.8"
  }
 },
 "nbformat": 4,
 "nbformat_minor": 2
}
