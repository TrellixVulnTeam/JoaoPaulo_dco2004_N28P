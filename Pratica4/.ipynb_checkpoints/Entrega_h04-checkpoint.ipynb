{
 "cells": [
  {
   "cell_type": "markdown",
   "metadata": {},
   "source": [
    "periodogram é uma função já estabelecida pelo matlab, tal função pode aceitar diversos parâmetros, dentre eles os mais comuns são o vetor a se analizar(obrigatório) e a janela a qual este vetor será submetido.\n",
    "\n",
    "A função periodogram tem como objetivo estimar a Densidade Espectral de Potência (PSD) estimado pelo método periodogram.\n",
    "\n",
    "Ao utilizar um sinal com valores reais a função periodogram irá retornar apenas um lado do PSD. utilizando sinais com valores complexos a função irá retornar os dois lados do PSD.\n"
   ]
  },
  {
   "cell_type": "code",
   "execution_count": null,
   "metadata": {},
   "outputs": [],
   "source": [
    "help periodogram"
   ]
  }
 ],
 "metadata": {
  "kernelspec": {
   "display_name": "Python 3",
   "language": "python",
   "name": "python3"
  },
  "language_info": {
   "codemirror_mode": {
    "name": "ipython",
    "version": 3
   },
   "file_extension": ".py",
   "mimetype": "text/x-python",
   "name": "python",
   "nbconvert_exporter": "python",
   "pygments_lexer": "ipython3",
   "version": "3.6.8"
  }
 },
 "nbformat": 4,
 "nbformat_minor": 2
}
