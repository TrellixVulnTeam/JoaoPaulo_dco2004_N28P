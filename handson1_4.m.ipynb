{
 "cells": [
  {
   "cell_type": "code",
   "execution_count": null,
   "metadata": {},
   "outputs": [
    {
     "name": "stdout",
     "output_type": "stream",
     "text": [
      "Tempo com Laço FOR = 0.028134\n"
     ]
    }
   ],
   "source": [
    "% limpa variáveis, a tela e fecha todos os gráficos existentes\n",
    "clear all;clc;close all; \n",
    "dPasso = 5;                             % Resolução do grid\n",
    "dDim = 200;                             % Dimensão do grid\n",
    "nl = (dDim-2*dPasso)/dPasso + 1;        % Número de pontos de medição\n",
    "%% Código com laço FOR\n",
    "t1 = tic;                               % Abre um contador de tempo identificado por t1\n",
    "% Matriz com posição de cada ponto do grid (posição relativa ao canto inferior direito)\n",
    "for il = 1:nl \n",
    "    for ic = 1:nl\n",
    "        px(il,ic) = dPasso + (ic-1)*dPasso;\n",
    "        py(ic,il) = px(il,ic);\n",
    "    end\n",
    "end\n",
    "% Matrizes de posição e potência recebida\n",
    "for il = 1:nl\n",
    "    for ic = 1:nl\n",
    "        % Matrizes com posição de cada ponto do grid relativa a cada roteador\n",
    "        pbs0(il,ic) = px(il,ic) + j*py(il,ic) - ( dDim/2 + 0.8*dDim*j); % Roteador 0\n",
    "        pbs1(il,ic) = px(il,ic) + j*py(il,ic) - ( dDim/2 + 0.2*dDim*j); % Roteador 1\n",
    "        % Cálculo da potência recebida em cada ponto do grid, recebida de cada roteador\n",
    "        pl0(il,ic) = 10*log10(1/abs(pbs0(il,ic))^4/1e-3); % Roteador 0\n",
    "        pl1(il,ic) = 10*log10(1/abs(pbs1(il,ic))^4/1e-3); % Roteador 1\n",
    "        % cálculo da melhor potência em cada ponto do grid\n",
    "        plf(il,ic) = max(pl0(il,ic), pl1(il,ic));\n",
    "    end\n",
    "end\n",
    "tempoComFor = toc(t1); % Fecha contador de tempo e guarda tempo na variável tempoComFor\n",
    "disp(['Tempo com Laço FOR = ' num2str(tempoComFor)]);   % Mostra tempo de execuçao do código\n",
    "%% Gráficos para código com laço for\n",
    "% Plota as posiçoes dos pontos do grid para os dois roteadores\n",
    "subplot(1,2,1); plot(pbs0,'k.'); title('Roteador 0 com Laço');\n",
    "subplot(1,2,2); plot(pbs1,'k.'); title('Roteador 1 com Laço');\n",
    "figure;\n",
    "% Plota a mapa de cores relativo a potência para os dois roteadores separadamente\n",
    "subplot(1,2,1); pcolor(pl0); title('Roteador 0 com Laço');\n",
    "subplot(1,2,2); pcolor(pl1); title('Roteador 1 com Laço');\n",
    "figure;\n",
    "% Plota a mapa de cores realtivo a melhor potência em cada ponto do grid (melhor entre os dois roteadores)\n",
    "pcolor(plf);title(['Sistema com Laço - tempo ' num2str(tempoComFor)]);"
   ]
  }
 ],
 "metadata": {
  "kernelspec": {
   "display_name": "Matlab",
   "language": "matlab",
   "name": "matlab"
  },
  "language_info": {
   "codemirror_mode": "octave",
   "file_extension": ".m",
   "help_links": [
    {
     "text": "MetaKernel Magics",
     "url": "https://github.com/calysto/metakernel/blob/master/metakernel/magics/README.md"
    }
   ],
   "mimetype": "text/x-matlab",
   "name": "matlab",
   "version": "0.14.3"
  }
 },
 "nbformat": 4,
 "nbformat_minor": 2
}
