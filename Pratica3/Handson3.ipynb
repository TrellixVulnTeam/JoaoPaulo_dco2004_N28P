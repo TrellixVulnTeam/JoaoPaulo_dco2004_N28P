{
 "cells": [
  {
   "cell_type": "code",
   "execution_count": 2,
   "metadata": {},
   "outputs": [
    {
     "data": {
      "image/png": "[encoded data removed]",
      "text/plain": [
       "<matplotlib.figure.Figure at 0x7f1d2d70dda0>"
      ]
     },
     "metadata": {
      "needs_background": "light"
     },
     "output_type": "display_data"
    }
   ],
   "source": [
    "\n",
    "import scipy.io.wavfile as wv\n",
    "import numpy as np\n",
    "from scipy.fftpack import fft\n",
    "import matplotlib.pyplot as plt\n",
    "\n",
    "soundFile = './violino.wav'               # Especifica do local e nome do arquivo de audio\n",
    "dFa1,y1 = wv.read(soundFile)              # Abre arquivo de audio de um arquivo\n",
    "\n",
    "\n",
    "N1 = len(y1)                             # Number of sample points       \n",
    "T1 = 1/dFa1                              # sample spacing\n",
    "\n",
    "yf1 = fft(y1)                            #obtendo fft\n",
    "yf1=yf1/N1                               #Normalizando o sinal obtido\n",
    "\n",
    "\n",
    "xf1 = np.linspace(0.0, 1.0/(2.0*T1), N1//2)\n",
    "\n",
    "fig = plt.figure()\n",
    "ax1=plt.subplot(\"211\")\n",
    "plt.plot(xf1, 2.0/N1 * np.abs(yf1[0:N1//2]))\n",
    "plt.grid()\n",
    "\n",
    "\n",
    "\n",
    "soundFile = './flauta.wav'               # Especifica do local e nome do arquivo de audio\n",
    "dFa2,y2 = wv.read(soundFile)             # Abre arquivo de audio de um arquivo\n",
    "\n",
    "\n",
    "N2 = len(y2)                             # Number of sample points\n",
    "T2 = 1/dFa2                              # sample spacing\n",
    "\n",
    "yf2 = fft(y2)\n",
    "yf2=yf2/N2\n",
    "xf2 = np.linspace(0.0, 1.0/(2.0*T2), N2//2)\n",
    "ax2=plt.subplot(\"212\")\n",
    "plt.plot(xf2, 2.0/N2 * np.abs(yf2[0:N2//2]))\n",
    "plt.grid()\n",
    "ax1.title.set_text('Violino')\n",
    "ax2.title.set_text('Flauta')\n",
    "plt.show()"
   ]
  },
  {
   "cell_type": "code",
   "execution_count": null,
   "metadata": {},
   "outputs": [],
   "source": [
    "close all;clc;clear all;                                          \n",
    "soundviolino = ['/violino.wav']; \n",
    "soundflauta = ['/flauta.wav'];\n",
    "\n",
    "[x, Fs1] = audioread(soundviolino);  \n",
    "[y, Fs2] = audioread(soundflauta);\n",
    "\n",
    "L1=length(x);\n",
    "T1=1/Fs1;\n",
    "L2=length(y)\n",
    "T2=1/Fs2;\n",
    "\n",
    "X=fft(x);\n",
    "Y=fft(y);\n",
    "\n",
    "f1 = (Fs1)*(0:(L1/2))/L1;\n",
    "f2 = (Fs2)*(0:(L2/2))/L2;\n",
    "\n",
    "\n",
    "Y = abs(2*Y/L2);\n",
    "X = abs(2*X/L1);\n",
    "\n",
    "P1 = X(1:(L1/2)+1);\n",
    "P2 = Y(1:(L2/2)+1);\n",
    "h=figure\n",
    "subplot(2,1,1)\n",
    "plot(f1,P1)\n",
    "\n",
    "title('Violino')\n",
    "\n",
    "\n",
    "\n",
    "subplot(2,1,2)\n",
    "plot(f2,P2)\n",
    "\n",
    "title('flauta')"
   ]
  },
  {
   "cell_type": "markdown",
   "metadata": {},
   "source": [
    "Podemos observar que observamos a mesma forma de onda, tanto ao utilizar o python quanto ao utilizar o matlab, obtivermos no entanto uma pequena divergência quanto a amplitude do sinal.\n",
    "Isto pode ser explicado por uma diferença na forma de leitura do arquivo.wav, o python lê os dados de maneira crua enquanto o matlab já normaliza o vetor."
   ]
  }
 ],
 "metadata": {
  "kernelspec": {
   "display_name": "Python 3",
   "language": "python",
   "name": "python3"
  },
  "language_info": {
   "codemirror_mode": {
    "name": "ipython",
    "version": 3
   },
   "file_extension": ".py",
   "mimetype": "text/x-python",
   "name": "python",
   "nbconvert_exporter": "python",
   "pygments_lexer": "ipython3",
   "version": "3.6.8"
  }
 },
 "nbformat": 4,
 "nbformat_minor": 2
}
