{
 "cells": [
  {
   "cell_type": "markdown",
   "metadata": {},
   "source": [
    "# Relatório"
   ]
  },
  {
   "cell_type": "markdown",
   "metadata": {},
   "source": [
    "## Introdução"
   ]
  },
  {
   "cell_type": "markdown",
   "metadata": {},
   "source": [
    "MATLAB ou Matrix Labotratory e um ambiente multi paradigma de alta performance voltado para a computação numérica,  resolvendo problemas usando análise numérica e matricial possuindo também uma facilidade em apresentar os resultados de em forma gráfica."
   ]
  },
  {
   "cell_type": "markdown",
   "metadata": {},
   "source": [
    "## Variáveis"
   ]
  },
  {
   "cell_type": "markdown",
   "metadata": {},
   "source": [
    "O MATLAB, como em qualquer outra linguagem de programação, utiliza um sistema de variaveis para alocar memória e gravar informações que serão utilizadas futuramente. Estas variáveis podem ser Numéricas, String, Data e tempo, array\n",
    "categorico, tabela entre outros tipos."
   ]
  },
  {
   "cell_type": "markdown",
   "metadata": {},
   "source": [
    "# pratica1"
   ]
  },
  {
   "cell_type": "markdown",
   "metadata": {},
   "source": [
    "Na prática 02 : Ambiente de depuraçao (debug), foi apresentado um pequeno  script  com  intuito  de  familiarizar  o  aluno  com  o  ambiente  integral  de desenvolvimento (IDE) do matlab, o Script utilizado  ́e mostrado na Figura abaixo :"
   ]
  },
  {
   "cell_type": "markdown",
   "metadata": {},
   "source": [
    " ![Script](codigo_relatorio1.jpg)"
   ]
  },
  {
   "cell_type": "markdown",
   "metadata": {},
   "source": [
    "Podemos observar uma serie de variaveis sendo declaradas neste script,  A primeira linha ”clear all;”  ́e utilizada para apagar qualquer varivael declarada anterioremente. \n",
    "\n",
    "Na segunda linha ”t = 1:10;”  ́e utilizada para gerar uma variável do tipo array com valores de 1 a 10.\n",
    "\n",
    "Na terceira linha ”f = 10;” e utilizada para gerar uma variável do tipo inteiro, com valor 10.\n",
    "\n",
    "Na quarta linha ”s = cos(2*pi*0.5*f*t);” ́e utilizado para efetuar a operação matemática listada para cada valor de t, com o valor pré alocado de f, gerando assim um vetor com mesmo tamanho de t, porem com os valores correspondentes da operação matemática efetuada.\n",
    "\n",
    "Na quinta linha  ́e utilizada a mesma lógica, somando cada valor (previamente calculado) do vetor s com cada valor da operação matemática aplicada ao vetor t, gerando tamb ́em um vetor.\n",
    "\n",
    "Na sexta linha ”chDisplays”  ́e utilizado para armazenar uma string contendo alguns caracteres seguidos do valor máximo contdo no vetor s.\n",
    "\n",
    "Na setima linha ”disp(chDisplays);”  ́e utilizado para mostrar no Command Windows do matlab a string chDisplays.\n",
    "\n",
    "Na oitava  linha ”chDisplayz” ́e  utilizado  para  armazenar  uma  string  con- tendo alguns caracteres seguidos do valor maximo contigo no vetor z.\n",
    "\n",
    "Na nona  linha ”disp(chDisplayz);” e  utilizado  para  mostrar no  Command Windows do matlab a string chDisplayz, podemos observar todas as variáveis criadas na Figura abaixo. "
   ]
  },
  {
   "cell_type": "markdown",
   "metadata": {},
   "source": [
    "![variaveis](tipos_variaveis.jpg)"
   ]
  },
  {
   "cell_type": "markdown",
   "metadata": {},
   "source": [
    "# pratica 2"
   ]
  },
  {
   "cell_type": "markdown",
   "metadata": {},
   "source": [
    "A  prática  2  foi  elabrada  com  intuito  de  familiarizar  o  aluno  com  o  ambiente de debug do matlab, utilizando a funcionalidade Set/Clear, como mostrado na Figura abaixo,  ao  qual  marca  uma  linha  no  script  e  executa  o  c ́odigo  at ́e  a  linha superior, esperando um comando para continuar a ler as seguintes linhas. Uma ferramenta importante para analisar separadamente partes do script e encontrar o erro de forma eficiente."
   ]
  },
  {
   "cell_type": "markdown",
   "metadata": {},
   "source": [
    "![Set/Clear](debug.png)"
   ]
  },
  {
   "cell_type": "markdown",
   "metadata": {},
   "source": [
    "Ao rodar o scrip, agora com a opcao Set/Clear utilizada na linha 5, como mostrado na figura abaixo:"
   ]
  },
  {
   "cell_type": "markdown",
   "metadata": {},
   "source": [
    "![Set/Clear liha 5](./Pasta sem título/JoaoPaulo_dco2004/codigo_relatorio2.jpg)"
   ]
  },
  {
   "cell_type": "markdown",
   "metadata": {},
   "source": [
    "Podemos observar que o script para de ser executado na 5 linha, esperando o Continue para  voltar  a  executar  a continuacão do programa, observado na figura 5. Pode ser observado na Figura abaixo que nem todas as vari ́aveis foram\n",
    "declaradas."
   ]
  },
  {
   "cell_type": "markdown",
   "metadata": {},
   "source": [
    "![variaveis debug](varivaeis_debug.jpg)"
   ]
  },
  {
   "cell_type": "markdown",
   "metadata": {},
   "source": [
    "A primeira linha ”clear all;”  ́e utilizada para apagar qualquer varivael declarada\n",
    "anterioremente. \n",
    "\n",
    "Na segunda linha ”t = 1:10;”  ́e utilizada para gerar uma variavel do tipo array com valores de 1 a 10.\n",
    "\n",
    "Na terceira linha ”f = 10;” e utilizada para gerar uma variavel do tipo inteiro, com valor 10.\n",
    "\n",
    "Na quarta linha ”s = cos(2*pi*0.5*f*t);” ́e utilizado para efetuar a opera ̧c ̃ao matem ́atica listada para cada valor de t, com o valor pr ́e alocado de f, gerando assim um vetor com mesmo tamanho de t, porem com os valores correspondentes da operação matemática efetuada."
   ]
  },
  {
   "cell_type": "code",
   "execution_count": null,
   "metadata": {
    "collapsed": true
   },
   "outputs": [],
   "source": []
  }
 ],
 "metadata": {
  "kernelspec": {
   "display_name": "Matlab",
   "language": "matlab",
   "name": "matlab"
  },
  "language_info": {
   "codemirror_mode": "octave",
   "file_extension": ".m",
   "help_links": [
    {
     "text": "MetaKernel Magics",
     "url": "https://github.com/calysto/metakernel/blob/master/metakernel/magics/README.md"
    }
   ],
   "mimetype": "text/x-matlab",
   "name": "matlab",
   "version": "0.14.3"
  }
 },
 "nbformat": 4,
 "nbformat_minor": 2
}
