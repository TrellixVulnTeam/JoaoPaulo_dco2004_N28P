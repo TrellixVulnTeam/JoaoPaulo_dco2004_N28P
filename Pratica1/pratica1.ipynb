{
 "cells": [
  {
   "cell_type": "code",
   "execution_count": 2,
   "metadata": {},
   "outputs": [
    {
     "name": "stdout",
     "output_type": "stream",
     "text": [
      "Escolha a primeira variável5\n",
      "Escolha a segunda variável3\n",
      "A soma das variáveis é: 8\n"
     ]
    }
   ],
   "source": [
    "\n",
    "\n",
    "#O Processo de modulação explora os três parâmetros da senoide portadora: Amplitude, Frequência e Fase aqui fig_figura\n",
    "\n",
    "a = int(input(\"Escolha a primeira variável\"))\n",
    "b = int(input(\"Escolha a segunda variável\"))\n",
    "print(\"A soma das variáveis é:\", a+b)\n",
    "\n",
    "\n",
    "\n"
   ]
  },
  {
   "cell_type": "code",
   "execution_count": null,
   "metadata": {},
   "outputs": [],
   "source": []
  }
 ],
 "metadata": {
  "kernelspec": {
   "display_name": "Python 3",
   "language": "python",
   "name": "python3"
  },
  "language_info": {
   "codemirror_mode": {
    "name": "ipython",
    "version": 3
   },
   "file_extension": ".py",
   "mimetype": "text/x-python",
   "name": "python",
   "nbconvert_exporter": "python",
   "pygments_lexer": "ipython3",
   "version": "3.6.8"
  }
 },
 "nbformat": 4,
 "nbformat_minor": 2
}
